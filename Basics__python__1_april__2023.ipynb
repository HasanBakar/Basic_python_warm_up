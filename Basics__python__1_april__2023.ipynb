{
 "cells": [
  {
   "cell_type": "markdown",
   "id": "01c9a452",
   "metadata": {},
   "source": [
    "# Basic Problem List for Fun programming!!🎈🎈🎈🎈🎈\n",
    "1. Print the following sentence \n",
    "Mr John said that \"Honesty is the best policy.\"\n",
    "\n",
    "2. Write down your adress. You can use more than one print function, if you need.\n",
    "\n",
    "3. Print the sentence = \"I like to eat fish's and egg's in dinner.\"\n",
    "\n",
    "4. Add one int and one float number and print the type of the sum.\n",
    "\n",
    "5. Take 3 numbers using one input function and print them\n",
    "\n",
    "6. Take three int numbers as input by one input function and print the sum of them. You should print like \"The sum is =\"\n",
    "\n",
    "7. Take your first and last name using one input function and print using one output function.\n",
    "\n",
    "8. Take two number as input find their multiplication and convert the number to string and print the string. \n",
    "\n",
    "9. Take two number as input and find the smallest number between them.\n",
    "\n",
    "10. Take 3 numbers as input and find the truth value of the expression (a+b)<(a*c)\n",
    "\n",
    "11. Take a number as input and if the number is even and greater than 10 then print yes, weather print no.\n",
    "\n",
    "12. Take 2 number as input and find the difference between the division and floor Division of the two number.\n",
    "\n",
    "13. Take 2 numbers as input and divide the largest number by the smallest number. In here, at first you should find the largest number then perform the division operation. \n",
    "\n",
    "14. Take two number n and m as input and print from n to 1 for m times.  You can use any loop.\n",
    "\n",
    "15. Take a number as input and check weather the number is negative or positive.\n",
    "\n",
    "16. Take a number as input and if the number is less than 20 and an even number then print \"I am right\", otherwise print \"Nothing to say\"\n",
    "\n",
    "17. Take two number as input and print the number, which is greater than the Average of two numbers."
   ]
  },
  {
   "cell_type": "markdown",
   "id": "d12e2e16",
   "metadata": {},
   "source": [
    "# 1. Print the following sentence \n",
    "#### Mr John said that \"Honesty is the best policy.\""
   ]
  },
  {
   "cell_type": "code",
   "execution_count": 1,
   "id": "c02cb0f3",
   "metadata": {},
   "outputs": [
    {
     "name": "stdout",
     "output_type": "stream",
     "text": [
      "Mr John said that \"Honesty is the best policy.\"\n"
     ]
    }
   ],
   "source": [
    "print('Mr John said that \"Honesty is the best policy.\"')"
   ]
  },
  {
   "cell_type": "markdown",
   "id": "c4f3fa3a",
   "metadata": {},
   "source": [
    "# 2. Write down your adress. You can use more than one print function, if you need."
   ]
  },
  {
   "cell_type": "code",
   "execution_count": 2,
   "id": "66c9a873",
   "metadata": {},
   "outputs": [
    {
     "name": "stdout",
     "output_type": "stream",
     "text": [
      "\n",
      "Name: Abu Bakar\n",
      "Profession: University student.\n",
      "University Name: University of Create Technology, Chittagong.\n",
      "Banskhali, Chittagong, Bangladesh.\n",
      "\n"
     ]
    }
   ],
   "source": [
    "print('''\n",
    "Name: Abu Bakar\n",
    "Profession: University student.\n",
    "University Name: University of Create Technology, Chittagong.\n",
    "Banskhali, Chittagong, Bangladesh.\n",
    "''')"
   ]
  },
  {
   "cell_type": "markdown",
   "id": "51c6649e",
   "metadata": {},
   "source": [
    "# 3. Print the sentence = \"I like to eat fish's and egg's in dinner.\"\n"
   ]
  },
  {
   "cell_type": "code",
   "execution_count": 3,
   "id": "d7ff1f06",
   "metadata": {},
   "outputs": [
    {
     "name": "stdout",
     "output_type": "stream",
     "text": [
      "I like to eat fish's and egg's in dinner. \n"
     ]
    }
   ],
   "source": [
    "sentence = '''I like to eat fish's and egg's in dinner. '''\n",
    "print(sentence)"
   ]
  },
  {
   "cell_type": "markdown",
   "id": "72a95d4d",
   "metadata": {},
   "source": [
    "# 4. Add one int and one float number and print the type of the sum.\n"
   ]
  },
  {
   "cell_type": "code",
   "execution_count": 4,
   "id": "c15fea9f",
   "metadata": {},
   "outputs": [
    {
     "name": "stdout",
     "output_type": "stream",
     "text": [
      "<class 'float'> 46.45\n"
     ]
    }
   ],
   "source": [
    "integer_number = 12\n",
    "float_number = 34.45\n",
    "Sum = integer_number + float_number\n",
    "print(type(Sum), Sum)"
   ]
  },
  {
   "cell_type": "markdown",
   "id": "dc8c0793",
   "metadata": {},
   "source": [
    "# 5. Take 3 numbers using one input function and print them\n"
   ]
  },
  {
   "cell_type": "code",
   "execution_count": 10,
   "id": "f33f647b",
   "metadata": {
    "scrolled": true
   },
   "outputs": [
    {
     "name": "stdout",
     "output_type": "stream",
     "text": [
      "Enter three numbers: 1 2 4\n",
      "1 2 4\n"
     ]
    }
   ],
   "source": [
    "a, b, c = input(\"Enter three numbers: \").split()\n",
    "print(a, b, c)"
   ]
  },
  {
   "cell_type": "markdown",
   "id": "82fdb933",
   "metadata": {},
   "source": [
    "# 6. Take three int numbers as input by one input function and print the sum of them. You should print like \"The sum is =\"\n"
   ]
  },
  {
   "cell_type": "code",
   "execution_count": 14,
   "id": "d92dc64d",
   "metadata": {},
   "outputs": [
    {
     "name": "stdout",
     "output_type": "stream",
     "text": [
      "Enter three numbers: 23 23 4\n",
      "The sum is =  50\n"
     ]
    }
   ],
   "source": [
    "num1, num2, num3 = input(\"Enter three numbers: \").split()\n",
    "print(\"The sum is = \", int(num1) + int(num2) + int(num3))"
   ]
  },
  {
   "cell_type": "markdown",
   "id": "9d5e882c",
   "metadata": {},
   "source": [
    "# 7. Take your first and last name using one input function and print using one output function.\n"
   ]
  },
  {
   "cell_type": "code",
   "execution_count": 16,
   "id": "e80b811a",
   "metadata": {
    "scrolled": true
   },
   "outputs": [
    {
     "name": "stdout",
     "output_type": "stream",
     "text": [
      "Enter your first and last name with space: Abu Bakar\n",
      "Your full Name is:  Abu Bakar\n"
     ]
    }
   ],
   "source": [
    "first_name, last_name = input(\"Enter your first and last name with space: \").split()\n",
    "print(\"Your full Name is: \", first_name + \" \" + last_name)"
   ]
  },
  {
   "cell_type": "markdown",
   "id": "6cb1a38c",
   "metadata": {},
   "source": [
    "# 8. Take two number as input find their multiplication and convert the number to string and print the string. "
   ]
  },
  {
   "cell_type": "code",
   "execution_count": 19,
   "id": "f25f4043",
   "metadata": {},
   "outputs": [
    {
     "name": "stdout",
     "output_type": "stream",
     "text": [
      "Enter two numbers: 3 5\n",
      "Multiplication result is string format:  15\n"
     ]
    }
   ],
   "source": [
    "num1, num2 = input(\"Enter two numbers: \").split()\n",
    "multiply = int(num1) * int(num2)\n",
    "print(\"Multiplication result is string format: \",str(multiply))"
   ]
  },
  {
   "cell_type": "markdown",
   "id": "e4745179",
   "metadata": {},
   "source": [
    "# 9. Take two number as input and find the smallest number between them.\n"
   ]
  },
  {
   "cell_type": "code",
   "execution_count": 21,
   "id": "bf6d8254",
   "metadata": {},
   "outputs": [
    {
     "name": "stdout",
     "output_type": "stream",
     "text": [
      "Enter two numbers: 34 23\n",
      "The small number of between two numbers is  23\n"
     ]
    }
   ],
   "source": [
    "num1, num2 = input(\"Enter two numbers: \").split()\n",
    "smallest = min(int(num1),int(num2))\n",
    "print(\"The small number of between two numbers is \",smallest)"
   ]
  },
  {
   "cell_type": "markdown",
   "id": "11a241ab",
   "metadata": {},
   "source": [
    "# 10. Take 3 numbers as input and find the truth value of the expression (a+b)<(a*c)\n"
   ]
  },
  {
   "cell_type": "code",
   "execution_count": 31,
   "id": "832790bd",
   "metadata": {},
   "outputs": [
    {
     "name": "stdout",
     "output_type": "stream",
     "text": [
      "Enter three numbers: 3 4 5\n",
      "true\n"
     ]
    }
   ],
   "source": [
    "a, b, c = input(\"Enter three numbers: \").split()\n",
    "a, b, c = int(a), int(b), int(c)\n",
    "if (a + b < a * c):\n",
    "    print(\"true\")  \n",
    "else:\n",
    "    print(\"false\")"
   ]
  },
  {
   "cell_type": "markdown",
   "id": "25be6ab3",
   "metadata": {},
   "source": [
    "# 11. Take a number as input and if the number is even and greater than 10 then print yes, weather print no.\n"
   ]
  },
  {
   "cell_type": "code",
   "execution_count": 37,
   "id": "c246a18e",
   "metadata": {},
   "outputs": [
    {
     "name": "stdout",
     "output_type": "stream",
     "text": [
      "Enter a number: 12\n",
      "yes\n"
     ]
    }
   ],
   "source": [
    "num = int(input(\"Enter a number: \"))\n",
    "if(num % 2 == 0 and num > 10):\n",
    "    print(\"yes\")\n",
    "else:\n",
    "    print(\"no\")"
   ]
  },
  {
   "cell_type": "markdown",
   "id": "1a91514f",
   "metadata": {},
   "source": [
    "# 12. Take 2 number as input and find the difference between the division and floor Division of the two number.\n"
   ]
  },
  {
   "cell_type": "code",
   "execution_count": 41,
   "id": "017b975e",
   "metadata": {},
   "outputs": [
    {
     "name": "stdout",
     "output_type": "stream",
     "text": [
      "Enter two numbers with separate by space : 13 2\n",
      "The difference between the division and floor division of the two numbers is  0.5\n"
     ]
    }
   ],
   "source": [
    "num1, num2 = input(\"Enter two numbers with separate by space : \").split()\n",
    "normal_division = int(num1) / int(num2)\n",
    "floor_division = int(num1) // int(num2)\n",
    "difference = normal_division - floor_division\n",
    "print(\"The difference between the division and floor division of the two numbers is \", difference)"
   ]
  },
  {
   "cell_type": "markdown",
   "id": "b51bb844",
   "metadata": {},
   "source": [
    "# 13. Take 2 numbers as input and divide the largest number by the smallest number. In here, at first you should find the largest number then perform the division operation. \n"
   ]
  },
  {
   "cell_type": "code",
   "execution_count": 43,
   "id": "0698c0e3",
   "metadata": {},
   "outputs": [
    {
     "name": "stdout",
     "output_type": "stream",
     "text": [
      "Enter the two numbers: 23 4\n",
      "Dividend of general division:  5.75 🎈  Dividend of floor division:  5 🎈\n"
     ]
    }
   ],
   "source": [
    "num1, num2 = input(\"Enter the two numbers: \").split()\n",
    "largest_number = max(int(num1),int(num2))\n",
    "smallest_number = min(int(num1),int(num2))\n",
    "general_dividend = largest_number / smallest_number\n",
    "floor_dividend = largest_number // smallest_number\n",
    "print(\"Dividend of general division: \",general_dividend,\"🎈 \", \"Dividend of floor division: \", floor_dividend,\"🎈\")"
   ]
  },
  {
   "cell_type": "markdown",
   "id": "fce76efb",
   "metadata": {},
   "source": [
    "# 14. Take two number n and m as input and print from n to 1 for m times.  You can use any loop.\n"
   ]
  },
  {
   "cell_type": "code",
   "execution_count": 72,
   "id": "865ee2a3",
   "metadata": {},
   "outputs": [
    {
     "name": "stdout",
     "output_type": "stream",
     "text": [
      "Enter two numbers: 5 6\n",
      "Iteration 1\n",
      "1\n",
      "2\n",
      "3\n",
      "4\n",
      "5\n",
      "6\n",
      "Iteration 2\n",
      "1\n",
      "2\n",
      "3\n",
      "4\n",
      "5\n",
      "6\n",
      "Iteration 3\n",
      "1\n",
      "2\n",
      "3\n",
      "4\n",
      "5\n",
      "6\n",
      "Iteration 4\n",
      "1\n",
      "2\n",
      "3\n",
      "4\n",
      "5\n",
      "6\n",
      "Iteration 5\n",
      "1\n",
      "2\n",
      "3\n",
      "4\n",
      "5\n",
      "6\n"
     ]
    }
   ],
   "source": [
    "n, m = input(\"Enter two numbers: \").split()\n",
    "n, m = int(n), int(m)\n",
    "\n",
    "value = range(n)\n",
    "tamp = range(m)\n",
    "\n",
    "for i in value:\n",
    "    print(\"Iteration\",i+1)\n",
    "    for p in tamp:\n",
    "        print(p+1) "
   ]
  },
  {
   "cell_type": "markdown",
   "id": "bc823d8b",
   "metadata": {},
   "source": [
    "# 15. Take a number as input and check weather the number is negative or positive.\n"
   ]
  },
  {
   "cell_type": "code",
   "execution_count": 97,
   "id": "2d6a0ed1",
   "metadata": {},
   "outputs": [
    {
     "name": "stdout",
     "output_type": "stream",
     "text": [
      "Enter a number: -4\n",
      "negative🎈\n"
     ]
    }
   ],
   "source": [
    "number = int(input(\"Enter a number: \"))\n",
    "if number > 0:\n",
    "    print(\"positive🎁\")\n",
    "else:\n",
    "    print(\"negative🎈\")"
   ]
  },
  {
   "cell_type": "markdown",
   "id": "6ae77d9f",
   "metadata": {},
   "source": [
    "# Alternative answer\n",
    "## 15. Take a number as input and check weather the number is negative or positive.\n"
   ]
  },
  {
   "cell_type": "code",
   "execution_count": 98,
   "id": "2938d635",
   "metadata": {},
   "outputs": [
    {
     "name": "stdout",
     "output_type": "stream",
     "text": [
      "Enter a number:45\n",
      "🎈🎈🎈🍚 positive 🍕🍔🌭🥓\n"
     ]
    }
   ],
   "source": [
    "number = int(input(\"Enter a number:\"))\n",
    "if number < 0:\n",
    "    print(\"🧨Negative🎆\")\n",
    "else:\n",
    "    print(\"🎈🎈🎈🍚 positive 🍕🍔🌭🥓\")"
   ]
  },
  {
   "cell_type": "markdown",
   "id": "8d2339bb",
   "metadata": {},
   "source": [
    "# 16. Take a number as input and if the number is less than 20 and an even number then print \"I am right\", otherwise print \"Nothing to say\"\n",
    "\n"
   ]
  },
  {
   "cell_type": "code",
   "execution_count": 100,
   "id": "7908d2f1",
   "metadata": {},
   "outputs": [
    {
     "name": "stdout",
     "output_type": "stream",
     "text": [
      "Enter a number: 12\n",
      "I am right.\n"
     ]
    }
   ],
   "source": [
    "number = int(input(\"Enter a number: \"))\n",
    "if number < 20 and number % 2 == 0:\n",
    "    print(\"I am right.\")\n",
    "else:\n",
    "    print(\"Nothing to say.\")"
   ]
  },
  {
   "cell_type": "markdown",
   "id": "6ad994aa",
   "metadata": {},
   "source": [
    "# 17. Take two number as input and print the number, which is greater than the Average of two numbers.\n"
   ]
  },
  {
   "cell_type": "code",
   "execution_count": 104,
   "id": "8b9c7dd1",
   "metadata": {},
   "outputs": [
    {
     "name": "stdout",
     "output_type": "stream",
     "text": [
      "Enter two numbers: 4 5\n",
      "🎈🎈Second number is bigger than 0.5  of the average🎈🎈\n"
     ]
    }
   ],
   "source": [
    "num1, num2 = input(\"Enter two numbers: \").split()\n",
    "num1, num2 = int(num1), int(num2)\n",
    "average = (num1 + num2) / 2\n",
    "# print(average)\n",
    "if average < num1:\n",
    "    difference = num1 - average\n",
    "    print(\"First number is bigger than \",difference, \"of the average🍳🧇\")\n",
    "else:\n",
    "    difference = num2 -average\n",
    "    print(\"🎈🎈Second number is bigger than\", difference, \" of the average🎈🎈\")"
   ]
  }
 ],
 "metadata": {
  "kernelspec": {
   "display_name": "Python 3 (ipykernel)",
   "language": "python",
   "name": "python3"
  },
  "language_info": {
   "codemirror_mode": {
    "name": "ipython",
    "version": 3
   },
   "file_extension": ".py",
   "mimetype": "text/x-python",
   "name": "python",
   "nbconvert_exporter": "python",
   "pygments_lexer": "ipython3",
   "version": "3.9.13"
  }
 },
 "nbformat": 4,
 "nbformat_minor": 5
}
